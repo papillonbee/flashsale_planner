{
  "nbformat": 4,
  "nbformat_minor": 0,
  "metadata": {
    "colab": {
      "name": "flashsale_planner.ipynb",
      "provenance": [],
      "authorship_tag": "ABX9TyMKtM45ZDJetLZpHpq795zf",
      "include_colab_link": true
    },
    "kernelspec": {
      "name": "python3",
      "display_name": "Python 3"
    }
  },
  "cells": [
    {
      "cell_type": "markdown",
      "metadata": {
        "id": "view-in-github",
        "colab_type": "text"
      },
      "source": [
        "<a href=\"https://colab.research.google.com/github/papillonbee/flashsale_planner/blob/master/flashsale_planner.ipynb\" target=\"_parent\"><img src=\"https://colab.research.google.com/assets/colab-badge.svg\" alt=\"Open In Colab\"/></a>"
      ]
    },
    {
      "cell_type": "markdown",
      "metadata": {
        "id": "Sf_J2rYTM8HU",
        "colab_type": "text"
      },
      "source": [
        "# Quick Guide in 2 Steps"
      ]
    },
    {
      "cell_type": "code",
      "metadata": {
        "id": "ZhucUJM7EV4H",
        "colab_type": "code",
        "outputId": "b167ba0e-8ced-47f2-c506-fd33304b02eb",
        "colab": {
          "base_uri": "https://localhost:8080/",
          "height": 35
        }
      },
      "source": [
        "!pip install flashsale_planner"
      ],
      "execution_count": 1,
      "outputs": [
        {
          "output_type": "stream",
          "text": [
            "Requirement already satisfied: flashsale_planner in /usr/local/lib/python3.6/dist-packages (0.0.3)\n"
          ],
          "name": "stdout"
        }
      ]
    },
    {
      "cell_type": "code",
      "metadata": {
        "id": "O_hTnOGAEYlA",
        "colab_type": "code",
        "colab": {}
      },
      "source": [
        "import flashsale_planner as planner"
      ],
      "execution_count": 0,
      "outputs": []
    },
    {
      "cell_type": "markdown",
      "metadata": {
        "id": "vi_eHyZ6M_2e",
        "colab_type": "text"
      },
      "source": [
        "### 1 Initialize the planner\n"
      ]
    },
    {
      "cell_type": "code",
      "metadata": {
        "id": "b8I_C6pyEbq2",
        "colab_type": "code",
        "colab": {}
      },
      "source": [
        "planner.initialize()"
      ],
      "execution_count": 0,
      "outputs": []
    },
    {
      "cell_type": "markdown",
      "metadata": {
        "id": "fHNmceMfNUlC",
        "colab_type": "text"
      },
      "source": [
        "### 2 Predict sold rate and revenue given itemid, shopid, and your plan\n",
        "1. `itemid` \n",
        "2. `shopid`\n",
        "3. `flash_sale_stock` a number or a list of numbers of the initial stock of your product on flash sale\n",
        "4. `discount` a number or a list of numbers of your product discount\n",
        "5. `price_before_discount` a number or a list of numbers of your product price before discount (full price)\n",
        "6. `flash_bin` a string or a list of strings of flash bin, e.g. `'0-12'` for flash sale from 0am to 12am, `'21-24'` for flash sale from 9pm to 12am"
      ]
    },
    {
      "cell_type": "markdown",
      "metadata": {
        "id": "Vuy63kvbTfxz",
        "colab_type": "text"
      },
      "source": [
        "<img src=\"https://cf.shopee.co.th/file/897a9b73463869b19fae1360790e64f1\" width=\"200\">"
      ]
    },
    {
      "cell_type": "code",
      "metadata": {
        "id": "gSEfDOWGEfhG",
        "colab_type": "code",
        "colab": {}
      },
      "source": [
        "itemid = 1896072294\n",
        "shopid = 9020334\n",
        "flash_sale_stock = [50,55,60]\n",
        "discount = [.1,.2,.3,.4,.5,.6,.7,.8,.9]\n",
        "price_before_discount = 6290\n",
        "\n",
        "prediction = planner.predict(itemid,shopid,flash_sale_stock,discount,price_before_discount)"
      ],
      "execution_count": 0,
      "outputs": []
    },
    {
      "cell_type": "code",
      "metadata": {
        "id": "ZYPMzJU1ErBK",
        "colab_type": "code",
        "outputId": "2eaaec94-c5ff-4689-96e5-006fdf3db5e7",
        "colab": {
          "base_uri": "https://localhost:8080/",
          "height": 411
        }
      },
      "source": [
        "prediction.sort_values(by='revenue',ascending=False)"
      ],
      "execution_count": 5,
      "outputs": [
        {
          "output_type": "execute_result",
          "data": {
            "text/html": [
              "<div>\n",
              "<style scoped>\n",
              "    .dataframe tbody tr th:only-of-type {\n",
              "        vertical-align: middle;\n",
              "    }\n",
              "\n",
              "    .dataframe tbody tr th {\n",
              "        vertical-align: top;\n",
              "    }\n",
              "\n",
              "    .dataframe thead th {\n",
              "        text-align: right;\n",
              "    }\n",
              "</style>\n",
              "<table border=\"1\" class=\"dataframe\">\n",
              "  <thead>\n",
              "    <tr style=\"text-align: right;\">\n",
              "      <th></th>\n",
              "      <th>flash_bin</th>\n",
              "      <th>flash_sale_stock</th>\n",
              "      <th>discount</th>\n",
              "      <th>price_before_discount</th>\n",
              "      <th>sold_out</th>\n",
              "      <th>sold_out_prob</th>\n",
              "      <th>sold_rate</th>\n",
              "      <th>revenue</th>\n",
              "    </tr>\n",
              "  </thead>\n",
              "  <tbody>\n",
              "    <tr>\n",
              "      <th>89</th>\n",
              "      <td>21-24</td>\n",
              "      <td>50</td>\n",
              "      <td>0.9</td>\n",
              "      <td>6290</td>\n",
              "      <td>True</td>\n",
              "      <td>0.734012</td>\n",
              "      <td>0.432481</td>\n",
              "      <td>283050.000000</td>\n",
              "    </tr>\n",
              "    <tr>\n",
              "      <th>26</th>\n",
              "      <td>0-12</td>\n",
              "      <td>60</td>\n",
              "      <td>0.9</td>\n",
              "      <td>6290</td>\n",
              "      <td>False</td>\n",
              "      <td>0.479885</td>\n",
              "      <td>0.431850</td>\n",
              "      <td>146682.325803</td>\n",
              "    </tr>\n",
              "    <tr>\n",
              "      <th>107</th>\n",
              "      <td>21-24</td>\n",
              "      <td>60</td>\n",
              "      <td>0.9</td>\n",
              "      <td>6290</td>\n",
              "      <td>False</td>\n",
              "      <td>0.588923</td>\n",
              "      <td>0.418748</td>\n",
              "      <td>142232.004876</td>\n",
              "    </tr>\n",
              "    <tr>\n",
              "      <th>53</th>\n",
              "      <td>12-18</td>\n",
              "      <td>60</td>\n",
              "      <td>0.9</td>\n",
              "      <td>6290</td>\n",
              "      <td>False</td>\n",
              "      <td>0.503564</td>\n",
              "      <td>0.405379</td>\n",
              "      <td>137691.075923</td>\n",
              "    </tr>\n",
              "    <tr>\n",
              "      <th>17</th>\n",
              "      <td>0-12</td>\n",
              "      <td>55</td>\n",
              "      <td>0.9</td>\n",
              "      <td>6290</td>\n",
              "      <td>False</td>\n",
              "      <td>0.527825</td>\n",
              "      <td>0.437534</td>\n",
              "      <td>136228.503015</td>\n",
              "    </tr>\n",
              "    <tr>\n",
              "      <th>...</th>\n",
              "      <td>...</td>\n",
              "      <td>...</td>\n",
              "      <td>...</td>\n",
              "      <td>...</td>\n",
              "      <td>...</td>\n",
              "      <td>...</td>\n",
              "      <td>...</td>\n",
              "      <td>...</td>\n",
              "    </tr>\n",
              "    <tr>\n",
              "      <th>9</th>\n",
              "      <td>0-12</td>\n",
              "      <td>55</td>\n",
              "      <td>0.1</td>\n",
              "      <td>6290</td>\n",
              "      <td>False</td>\n",
              "      <td>0.240473</td>\n",
              "      <td>0.240062</td>\n",
              "      <td>8304.934821</td>\n",
              "    </tr>\n",
              "    <tr>\n",
              "      <th>81</th>\n",
              "      <td>21-24</td>\n",
              "      <td>50</td>\n",
              "      <td>0.1</td>\n",
              "      <td>6290</td>\n",
              "      <td>False</td>\n",
              "      <td>0.234415</td>\n",
              "      <td>0.260490</td>\n",
              "      <td>8192.405727</td>\n",
              "    </tr>\n",
              "    <tr>\n",
              "      <th>27</th>\n",
              "      <td>12-18</td>\n",
              "      <td>50</td>\n",
              "      <td>0.1</td>\n",
              "      <td>6290</td>\n",
              "      <td>False</td>\n",
              "      <td>0.207476</td>\n",
              "      <td>0.257753</td>\n",
              "      <td>8106.341305</td>\n",
              "    </tr>\n",
              "    <tr>\n",
              "      <th>54</th>\n",
              "      <td>18-21</td>\n",
              "      <td>50</td>\n",
              "      <td>0.1</td>\n",
              "      <td>6290</td>\n",
              "      <td>False</td>\n",
              "      <td>0.194312</td>\n",
              "      <td>0.253368</td>\n",
              "      <td>7968.413882</td>\n",
              "    </tr>\n",
              "    <tr>\n",
              "      <th>0</th>\n",
              "      <td>0-12</td>\n",
              "      <td>50</td>\n",
              "      <td>0.1</td>\n",
              "      <td>6290</td>\n",
              "      <td>False</td>\n",
              "      <td>0.275938</td>\n",
              "      <td>0.246915</td>\n",
              "      <td>7765.487239</td>\n",
              "    </tr>\n",
              "  </tbody>\n",
              "</table>\n",
              "<p>108 rows × 8 columns</p>\n",
              "</div>"
            ],
            "text/plain": [
              "    flash_bin  flash_sale_stock  ...  sold_rate        revenue\n",
              "89      21-24                50  ...   0.432481  283050.000000\n",
              "26       0-12                60  ...   0.431850  146682.325803\n",
              "107     21-24                60  ...   0.418748  142232.004876\n",
              "53      12-18                60  ...   0.405379  137691.075923\n",
              "17       0-12                55  ...   0.437534  136228.503015\n",
              "..        ...               ...  ...        ...            ...\n",
              "9        0-12                55  ...   0.240062    8304.934821\n",
              "81      21-24                50  ...   0.260490    8192.405727\n",
              "27      12-18                50  ...   0.257753    8106.341305\n",
              "54      18-21                50  ...   0.253368    7968.413882\n",
              "0        0-12                50  ...   0.246915    7765.487239\n",
              "\n",
              "[108 rows x 8 columns]"
            ]
          },
          "metadata": {
            "tags": []
          },
          "execution_count": 5
        }
      ]
    }
  ]
}