{
  "nbformat": 4,
  "nbformat_minor": 0,
  "metadata": {
    "colab": {
      "name": "flashsale_planner.ipynb",
      "provenance": [],
      "authorship_tag": "ABX9TyNK/gyObqzXLkKfqHoyH9nR",
      "include_colab_link": true
    },
    "kernelspec": {
      "name": "python3",
      "display_name": "Python 3"
    }
  },
  "cells": [
    {
      "cell_type": "markdown",
      "metadata": {
        "id": "view-in-github",
        "colab_type": "text"
      },
      "source": [
        "<a href=\"https://colab.research.google.com/github/papillonbee/flashsale_planner/blob/master/flashsale_planner.ipynb\" target=\"_parent\"><img src=\"https://colab.research.google.com/assets/colab-badge.svg\" alt=\"Open In Colab\"/></a>"
      ]
    },
    {
      "cell_type": "markdown",
      "metadata": {
        "id": "Sf_J2rYTM8HU",
        "colab_type": "text"
      },
      "source": [
        "# Quick Guide in 2 Steps"
      ]
    },
    {
      "cell_type": "code",
      "metadata": {
        "id": "ZhucUJM7EV4H",
        "colab_type": "code",
        "outputId": "1a7d3926-2ccf-4e22-a075-345d75d30b37",
        "colab": {
          "base_uri": "https://localhost:8080/",
          "height": 35
        }
      },
      "source": [
        "!pip install flashsale_planner"
      ],
      "execution_count": 1,
      "outputs": [
        {
          "output_type": "stream",
          "text": [
            "Requirement already satisfied: flashsale_planner in /usr/local/lib/python3.6/dist-packages (0.0.5)\n"
          ],
          "name": "stdout"
        }
      ]
    },
    {
      "cell_type": "code",
      "metadata": {
        "id": "O_hTnOGAEYlA",
        "colab_type": "code",
        "colab": {}
      },
      "source": [
        "import flashsale_planner as planner"
      ],
      "execution_count": 0,
      "outputs": []
    },
    {
      "cell_type": "markdown",
      "metadata": {
        "id": "vi_eHyZ6M_2e",
        "colab_type": "text"
      },
      "source": [
        "### 1 Initialize the planner\n"
      ]
    },
    {
      "cell_type": "code",
      "metadata": {
        "id": "b8I_C6pyEbq2",
        "colab_type": "code",
        "colab": {}
      },
      "source": [
        "planner.initialize()"
      ],
      "execution_count": 0,
      "outputs": []
    },
    {
      "cell_type": "markdown",
      "metadata": {
        "id": "fHNmceMfNUlC",
        "colab_type": "text"
      },
      "source": [
        "### 2 Predict sold rate and revenue given itemid, shopid, and your plan\n",
        "1. `itemid` \n",
        "2. `shopid`\n",
        "3. `flash_sale_stock` a number or a list of numbers of the initial stock of your product on flash sale\n",
        "4. `discount` a number or a list of numbers of your product discount\n",
        "5. `price_before_discount` a number or a list of numbers of your product price before discount (full price)\n",
        "6. `flash_bin` a string or a list of strings of flash bin, e.g. `'0-12'` for flash sale from 0am to 12am, `'21-24'` for flash sale from 9pm to 12am"
      ]
    },
    {
      "cell_type": "markdown",
      "metadata": {
        "id": "Vuy63kvbTfxz",
        "colab_type": "text"
      },
      "source": [
        "<img src=\"https://cf.shopee.co.th/file/897a9b73463869b19fae1360790e64f1\" width=\"200\">"
      ]
    },
    {
      "cell_type": "code",
      "metadata": {
        "id": "gSEfDOWGEfhG",
        "colab_type": "code",
        "colab": {}
      },
      "source": [
        "itemid = 1896072294\n",
        "shopid = 9020334\n",
        "flash_sale_stock = [40,45,50,55,60]\n",
        "discount = [.1,.2,.3,.4,.5,.6,.7]\n",
        "price_before_discount = 6290\n",
        "\n",
        "prediction = planner.predict(itemid,shopid,flash_sale_stock,discount,price_before_discount)"
      ],
      "execution_count": 0,
      "outputs": []
    },
    {
      "cell_type": "markdown",
      "metadata": {
        "id": "ai6LnOl-eJSt",
        "colab_type": "text"
      },
      "source": [
        "**Interpretation** You can maximize your revenue given purchasing a 0am - 12pm flash sale time slot, preparing 60 initial stocks, putting 70% discount, and 6290 THB product full price"
      ]
    },
    {
      "cell_type": "code",
      "metadata": {
        "id": "ZYPMzJU1ErBK",
        "colab_type": "code",
        "outputId": "199c4397-68a6-46e7-f9db-a146e8736ab5",
        "colab": {
          "base_uri": "https://localhost:8080/",
          "height": 411
        }
      },
      "source": [
        "prediction.sort_values(by='revenue',ascending=False)"
      ],
      "execution_count": 5,
      "outputs": [
        {
          "output_type": "execute_result",
          "data": {
            "text/html": [
              "<div>\n",
              "<style scoped>\n",
              "    .dataframe tbody tr th:only-of-type {\n",
              "        vertical-align: middle;\n",
              "    }\n",
              "\n",
              "    .dataframe tbody tr th {\n",
              "        vertical-align: top;\n",
              "    }\n",
              "\n",
              "    .dataframe thead th {\n",
              "        text-align: right;\n",
              "    }\n",
              "</style>\n",
              "<table border=\"1\" class=\"dataframe\">\n",
              "  <thead>\n",
              "    <tr style=\"text-align: right;\">\n",
              "      <th></th>\n",
              "      <th>flash_bin</th>\n",
              "      <th>flash_sale_stock</th>\n",
              "      <th>discount</th>\n",
              "      <th>price_before_discount</th>\n",
              "      <th>sold_out</th>\n",
              "      <th>sold_out_prob</th>\n",
              "      <th>sold_rate</th>\n",
              "      <th>revenue</th>\n",
              "    </tr>\n",
              "  </thead>\n",
              "  <tbody>\n",
              "    <tr>\n",
              "      <th>34</th>\n",
              "      <td>0-12</td>\n",
              "      <td>60</td>\n",
              "      <td>0.7</td>\n",
              "      <td>6290</td>\n",
              "      <td>False</td>\n",
              "      <td>0.592200</td>\n",
              "      <td>0.438969</td>\n",
              "      <td>115966.926380</td>\n",
              "    </tr>\n",
              "    <tr>\n",
              "      <th>27</th>\n",
              "      <td>0-12</td>\n",
              "      <td>55</td>\n",
              "      <td>0.7</td>\n",
              "      <td>6290</td>\n",
              "      <td>False</td>\n",
              "      <td>0.603660</td>\n",
              "      <td>0.455661</td>\n",
              "      <td>110345.204159</td>\n",
              "    </tr>\n",
              "    <tr>\n",
              "      <th>139</th>\n",
              "      <td>21-24</td>\n",
              "      <td>60</td>\n",
              "      <td>0.7</td>\n",
              "      <td>6290</td>\n",
              "      <td>False</td>\n",
              "      <td>0.505605</td>\n",
              "      <td>0.403423</td>\n",
              "      <td>106576.164797</td>\n",
              "    </tr>\n",
              "    <tr>\n",
              "      <th>69</th>\n",
              "      <td>12-18</td>\n",
              "      <td>60</td>\n",
              "      <td>0.7</td>\n",
              "      <td>6290</td>\n",
              "      <td>False</td>\n",
              "      <td>0.501983</td>\n",
              "      <td>0.388452</td>\n",
              "      <td>102621.346814</td>\n",
              "    </tr>\n",
              "    <tr>\n",
              "      <th>104</th>\n",
              "      <td>18-21</td>\n",
              "      <td>60</td>\n",
              "      <td>0.7</td>\n",
              "      <td>6290</td>\n",
              "      <td>False</td>\n",
              "      <td>0.389539</td>\n",
              "      <td>0.387236</td>\n",
              "      <td>102300.017560</td>\n",
              "    </tr>\n",
              "    <tr>\n",
              "      <th>...</th>\n",
              "      <td>...</td>\n",
              "      <td>...</td>\n",
              "      <td>...</td>\n",
              "      <td>...</td>\n",
              "      <td>...</td>\n",
              "      <td>...</td>\n",
              "      <td>...</td>\n",
              "      <td>...</td>\n",
              "    </tr>\n",
              "    <tr>\n",
              "      <th>0</th>\n",
              "      <td>0-12</td>\n",
              "      <td>40</td>\n",
              "      <td>0.1</td>\n",
              "      <td>6290</td>\n",
              "      <td>False</td>\n",
              "      <td>0.526936</td>\n",
              "      <td>0.331409</td>\n",
              "      <td>8338.248531</td>\n",
              "    </tr>\n",
              "    <tr>\n",
              "      <th>77</th>\n",
              "      <td>18-21</td>\n",
              "      <td>45</td>\n",
              "      <td>0.1</td>\n",
              "      <td>6290</td>\n",
              "      <td>False</td>\n",
              "      <td>0.376588</td>\n",
              "      <td>0.288082</td>\n",
              "      <td>8154.150192</td>\n",
              "    </tr>\n",
              "    <tr>\n",
              "      <th>35</th>\n",
              "      <td>12-18</td>\n",
              "      <td>40</td>\n",
              "      <td>0.1</td>\n",
              "      <td>6290</td>\n",
              "      <td>False</td>\n",
              "      <td>0.415623</td>\n",
              "      <td>0.318320</td>\n",
              "      <td>8008.926925</td>\n",
              "    </tr>\n",
              "    <tr>\n",
              "      <th>105</th>\n",
              "      <td>21-24</td>\n",
              "      <td>40</td>\n",
              "      <td>0.1</td>\n",
              "      <td>6290</td>\n",
              "      <td>False</td>\n",
              "      <td>0.426440</td>\n",
              "      <td>0.311377</td>\n",
              "      <td>7834.245377</td>\n",
              "    </tr>\n",
              "    <tr>\n",
              "      <th>70</th>\n",
              "      <td>18-21</td>\n",
              "      <td>40</td>\n",
              "      <td>0.1</td>\n",
              "      <td>6290</td>\n",
              "      <td>False</td>\n",
              "      <td>0.483633</td>\n",
              "      <td>0.290980</td>\n",
              "      <td>7321.051178</td>\n",
              "    </tr>\n",
              "  </tbody>\n",
              "</table>\n",
              "<p>140 rows × 8 columns</p>\n",
              "</div>"
            ],
            "text/plain": [
              "    flash_bin  flash_sale_stock  ...  sold_rate        revenue\n",
              "34       0-12                60  ...   0.438969  115966.926380\n",
              "27       0-12                55  ...   0.455661  110345.204159\n",
              "139     21-24                60  ...   0.403423  106576.164797\n",
              "69      12-18                60  ...   0.388452  102621.346814\n",
              "104     18-21                60  ...   0.387236  102300.017560\n",
              "..        ...               ...  ...        ...            ...\n",
              "0        0-12                40  ...   0.331409    8338.248531\n",
              "77      18-21                45  ...   0.288082    8154.150192\n",
              "35      12-18                40  ...   0.318320    8008.926925\n",
              "105     21-24                40  ...   0.311377    7834.245377\n",
              "70      18-21                40  ...   0.290980    7321.051178\n",
              "\n",
              "[140 rows x 8 columns]"
            ]
          },
          "metadata": {
            "tags": []
          },
          "execution_count": 5
        }
      ]
    }
  ]
}