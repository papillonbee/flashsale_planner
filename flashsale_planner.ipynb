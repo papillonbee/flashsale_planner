{
  "nbformat": 4,
  "nbformat_minor": 0,
  "metadata": {
    "colab": {
      "name": "flashsale_planner.ipynb",
      "provenance": [],
      "authorship_tag": "ABX9TyOxIuh4jtUvRjHTksVkRQj8",
      "include_colab_link": true
    },
    "kernelspec": {
      "name": "python3",
      "display_name": "Python 3"
    }
  },
  "cells": [
    {
      "cell_type": "markdown",
      "metadata": {
        "id": "view-in-github",
        "colab_type": "text"
      },
      "source": [
        "<a href=\"https://colab.research.google.com/github/papillonbee/flashsale_planner/blob/master/flashsale_planner.ipynb\" target=\"_parent\"><img src=\"https://colab.research.google.com/assets/colab-badge.svg\" alt=\"Open In Colab\"/></a>"
      ]
    },
    {
      "cell_type": "markdown",
      "metadata": {
        "id": "Sf_J2rYTM8HU",
        "colab_type": "text"
      },
      "source": [
        "# Quick Guide in 2 Steps"
      ]
    },
    {
      "cell_type": "code",
      "metadata": {
        "id": "ZhucUJM7EV4H",
        "colab_type": "code",
        "outputId": "962e5979-0606-4332-ef47-4b668c645a57",
        "colab": {
          "base_uri": "https://localhost:8080/",
          "height": 141
        }
      },
      "source": [
        "!pip install flashsale_planner==0.0.4"
      ],
      "execution_count": 3,
      "outputs": [
        {
          "output_type": "stream",
          "text": [
            "Collecting flashsale_planner==0.0.4\n",
            "  Downloading https://files.pythonhosted.org/packages/5d/5a/ffb0e6c764d3c9f1fb8b188fe759957d4ef244df865bb8010a648cf5dbcd/flashsale_planner-0.0.4-py3-none-any.whl\n",
            "Installing collected packages: flashsale-planner\n",
            "  Found existing installation: flashsale-planner 0.0.3\n",
            "    Uninstalling flashsale-planner-0.0.3:\n",
            "      Successfully uninstalled flashsale-planner-0.0.3\n",
            "Successfully installed flashsale-planner-0.0.4\n"
          ],
          "name": "stdout"
        }
      ]
    },
    {
      "cell_type": "code",
      "metadata": {
        "id": "O_hTnOGAEYlA",
        "colab_type": "code",
        "colab": {}
      },
      "source": [
        "import flashsale_planner as planner"
      ],
      "execution_count": 0,
      "outputs": []
    },
    {
      "cell_type": "markdown",
      "metadata": {
        "id": "vi_eHyZ6M_2e",
        "colab_type": "text"
      },
      "source": [
        "### 1 Initialize the planner\n"
      ]
    },
    {
      "cell_type": "code",
      "metadata": {
        "id": "b8I_C6pyEbq2",
        "colab_type": "code",
        "colab": {
          "base_uri": "https://localhost:8080/",
          "height": 187
        },
        "outputId": "b1b4b92f-09e8-4506-ee41-323ac3bcea18"
      },
      "source": [
        "planner.initialize()"
      ],
      "execution_count": 8,
      "outputs": [
        {
          "output_type": "error",
          "ename": "TypeError",
          "evalue": "ignored",
          "traceback": [
            "\u001b[0;31m---------------------------------------------------------------------------\u001b[0m",
            "\u001b[0;31mTypeError\u001b[0m                                 Traceback (most recent call last)",
            "\u001b[0;32m<ipython-input-8-f7f6f049e04a>\u001b[0m in \u001b[0;36m<module>\u001b[0;34m()\u001b[0m\n\u001b[0;32m----> 1\u001b[0;31m \u001b[0mitem\u001b[0m \u001b[0;34m=\u001b[0m \u001b[0mplanner\u001b[0m\u001b[0;34m.\u001b[0m\u001b[0minitialize\u001b[0m\u001b[0;34m(\u001b[0m\u001b[0mitemid\u001b[0m\u001b[0;34m,\u001b[0m\u001b[0mshopid\u001b[0m\u001b[0;34m)\u001b[0m\u001b[0;34m\u001b[0m\u001b[0;34m\u001b[0m\u001b[0m\n\u001b[0m\u001b[1;32m      2\u001b[0m \u001b[0mitem\u001b[0m\u001b[0;34m\u001b[0m\u001b[0;34m\u001b[0m\u001b[0m\n",
            "\u001b[0;31mTypeError\u001b[0m: initialize() takes from 0 to 1 positional arguments but 2 were given"
          ]
        }
      ]
    },
    {
      "cell_type": "markdown",
      "metadata": {
        "id": "fHNmceMfNUlC",
        "colab_type": "text"
      },
      "source": [
        "### 2 Predict sold rate and revenue given itemid, shopid, and your plan\n",
        "1. `itemid` \n",
        "2. `shopid`\n",
        "3. `flash_sale_stock` a number or a list of numbers of the initial stock of your product on flash sale\n",
        "4. `discount` a number or a list of numbers of your product discount\n",
        "5. `price_before_discount` a number or a list of numbers of your product price before discount (full price)\n",
        "6. `flash_bin` a string or a list of strings of flash bin, e.g. `'0-12'` for flash sale from 0am to 12am, `'21-24'` for flash sale from 9pm to 12am"
      ]
    },
    {
      "cell_type": "markdown",
      "metadata": {
        "id": "Vuy63kvbTfxz",
        "colab_type": "text"
      },
      "source": [
        "<img src=\"https://cf.shopee.co.th/file/897a9b73463869b19fae1360790e64f1\" width=\"200\">\n",
        "<img src=\"https://cf.shopee.co.th/file/3ae2f11bc8bbcf96737e4995c8513b15\" width=\"200\">\n",
        "<img src=\"https://cf.shopee.co.th/file/02a4f4dacf1a679ae1af13b7d8fe73fe\" width=\"200\">\n",
        "<img src=\"https://cf.shopee.co.th/file/8e03115a7b501d93bb0cc88b55a0a91d\" width=\"200\">\n",
        "<img src=\"https://cf.shopee.co.th/file/3141f834ea62a6da6bd3a313714569ef\" width=\"200\">\n",
        "<img src=\"https://cf.shopee.co.th/file/4da5026a7f8cc7aba8e20c7830803fd8\" width=\"200\">\n",
        "<img src=\"https://cf.shopee.co.th/file/e9df8f399149699c0322444daab593f4\" width=\"200\">\n",
        "<img src=\"https://cf.shopee.co.th/file/67e12d2a28f19c9ee403d487608f93db\" width=\"200\">\n",
        "<img src=\"https://cf.shopee.co.th/file/fc65cd22d0650660e40e4fc26994c22d\" width=\"200\">"
      ]
    },
    {
      "cell_type": "code",
      "metadata": {
        "id": "gSEfDOWGEfhG",
        "colab_type": "code",
        "colab": {}
      },
      "source": [
        "itemid = 1896072294\n",
        "shopid = 9020334\n",
        "flash_sale_stock = [50,55,60]\n",
        "discount = [.1,.2,.3,.4,.5,.6,.7,.8,.9]\n",
        "price_before_discount = 6290\n",
        "\n",
        "prediction = planner.predict(itemid,shopid,flash_sale_stock,discount,price_before_discount)"
      ],
      "execution_count": 0,
      "outputs": []
    },
    {
      "cell_type": "code",
      "metadata": {
        "id": "ZYPMzJU1ErBK",
        "colab_type": "code",
        "outputId": "52bb0e65-df65-46cf-a2ec-10fa84ec679e",
        "colab": {
          "base_uri": "https://localhost:8080/",
          "height": 411
        }
      },
      "source": [
        "prediction.sort_values(by='revenue',ascending=False)"
      ],
      "execution_count": 7,
      "outputs": [
        {
          "output_type": "execute_result",
          "data": {
            "text/html": [
              "<div>\n",
              "<style scoped>\n",
              "    .dataframe tbody tr th:only-of-type {\n",
              "        vertical-align: middle;\n",
              "    }\n",
              "\n",
              "    .dataframe tbody tr th {\n",
              "        vertical-align: top;\n",
              "    }\n",
              "\n",
              "    .dataframe thead th {\n",
              "        text-align: right;\n",
              "    }\n",
              "</style>\n",
              "<table border=\"1\" class=\"dataframe\">\n",
              "  <thead>\n",
              "    <tr style=\"text-align: right;\">\n",
              "      <th></th>\n",
              "      <th>flash_bin</th>\n",
              "      <th>flash_sale_stock</th>\n",
              "      <th>discount</th>\n",
              "      <th>price_before_discount</th>\n",
              "      <th>sold_out</th>\n",
              "      <th>sold_out_prob</th>\n",
              "      <th>sold_rate</th>\n",
              "      <th>revenue</th>\n",
              "    </tr>\n",
              "  </thead>\n",
              "  <tbody>\n",
              "    <tr>\n",
              "      <th>89</th>\n",
              "      <td>21-24</td>\n",
              "      <td>50</td>\n",
              "      <td>0.9</td>\n",
              "      <td>6290</td>\n",
              "      <td>True</td>\n",
              "      <td>0.734012</td>\n",
              "      <td>0.432481</td>\n",
              "      <td>283050.000000</td>\n",
              "    </tr>\n",
              "    <tr>\n",
              "      <th>26</th>\n",
              "      <td>0-12</td>\n",
              "      <td>60</td>\n",
              "      <td>0.9</td>\n",
              "      <td>6290</td>\n",
              "      <td>False</td>\n",
              "      <td>0.479885</td>\n",
              "      <td>0.431850</td>\n",
              "      <td>146682.325803</td>\n",
              "    </tr>\n",
              "    <tr>\n",
              "      <th>107</th>\n",
              "      <td>21-24</td>\n",
              "      <td>60</td>\n",
              "      <td>0.9</td>\n",
              "      <td>6290</td>\n",
              "      <td>False</td>\n",
              "      <td>0.588923</td>\n",
              "      <td>0.418748</td>\n",
              "      <td>142232.004876</td>\n",
              "    </tr>\n",
              "    <tr>\n",
              "      <th>53</th>\n",
              "      <td>12-18</td>\n",
              "      <td>60</td>\n",
              "      <td>0.9</td>\n",
              "      <td>6290</td>\n",
              "      <td>False</td>\n",
              "      <td>0.503564</td>\n",
              "      <td>0.405379</td>\n",
              "      <td>137691.075923</td>\n",
              "    </tr>\n",
              "    <tr>\n",
              "      <th>17</th>\n",
              "      <td>0-12</td>\n",
              "      <td>55</td>\n",
              "      <td>0.9</td>\n",
              "      <td>6290</td>\n",
              "      <td>False</td>\n",
              "      <td>0.527825</td>\n",
              "      <td>0.437534</td>\n",
              "      <td>136228.503015</td>\n",
              "    </tr>\n",
              "    <tr>\n",
              "      <th>...</th>\n",
              "      <td>...</td>\n",
              "      <td>...</td>\n",
              "      <td>...</td>\n",
              "      <td>...</td>\n",
              "      <td>...</td>\n",
              "      <td>...</td>\n",
              "      <td>...</td>\n",
              "      <td>...</td>\n",
              "    </tr>\n",
              "    <tr>\n",
              "      <th>9</th>\n",
              "      <td>0-12</td>\n",
              "      <td>55</td>\n",
              "      <td>0.1</td>\n",
              "      <td>6290</td>\n",
              "      <td>False</td>\n",
              "      <td>0.240473</td>\n",
              "      <td>0.240062</td>\n",
              "      <td>8304.934821</td>\n",
              "    </tr>\n",
              "    <tr>\n",
              "      <th>81</th>\n",
              "      <td>21-24</td>\n",
              "      <td>50</td>\n",
              "      <td>0.1</td>\n",
              "      <td>6290</td>\n",
              "      <td>False</td>\n",
              "      <td>0.234415</td>\n",
              "      <td>0.260490</td>\n",
              "      <td>8192.405727</td>\n",
              "    </tr>\n",
              "    <tr>\n",
              "      <th>27</th>\n",
              "      <td>12-18</td>\n",
              "      <td>50</td>\n",
              "      <td>0.1</td>\n",
              "      <td>6290</td>\n",
              "      <td>False</td>\n",
              "      <td>0.207476</td>\n",
              "      <td>0.257753</td>\n",
              "      <td>8106.341305</td>\n",
              "    </tr>\n",
              "    <tr>\n",
              "      <th>54</th>\n",
              "      <td>18-21</td>\n",
              "      <td>50</td>\n",
              "      <td>0.1</td>\n",
              "      <td>6290</td>\n",
              "      <td>False</td>\n",
              "      <td>0.194312</td>\n",
              "      <td>0.253368</td>\n",
              "      <td>7968.413882</td>\n",
              "    </tr>\n",
              "    <tr>\n",
              "      <th>0</th>\n",
              "      <td>0-12</td>\n",
              "      <td>50</td>\n",
              "      <td>0.1</td>\n",
              "      <td>6290</td>\n",
              "      <td>False</td>\n",
              "      <td>0.275938</td>\n",
              "      <td>0.246915</td>\n",
              "      <td>7765.487239</td>\n",
              "    </tr>\n",
              "  </tbody>\n",
              "</table>\n",
              "<p>108 rows × 8 columns</p>\n",
              "</div>"
            ],
            "text/plain": [
              "    flash_bin  flash_sale_stock  ...  sold_rate        revenue\n",
              "89      21-24                50  ...   0.432481  283050.000000\n",
              "26       0-12                60  ...   0.431850  146682.325803\n",
              "107     21-24                60  ...   0.418748  142232.004876\n",
              "53      12-18                60  ...   0.405379  137691.075923\n",
              "17       0-12                55  ...   0.437534  136228.503015\n",
              "..        ...               ...  ...        ...            ...\n",
              "9        0-12                55  ...   0.240062    8304.934821\n",
              "81      21-24                50  ...   0.260490    8192.405727\n",
              "27      12-18                50  ...   0.257753    8106.341305\n",
              "54      18-21                50  ...   0.253368    7968.413882\n",
              "0        0-12                50  ...   0.246915    7765.487239\n",
              "\n",
              "[108 rows x 8 columns]"
            ]
          },
          "metadata": {
            "tags": []
          },
          "execution_count": 7
        }
      ]
    }
  ]
}